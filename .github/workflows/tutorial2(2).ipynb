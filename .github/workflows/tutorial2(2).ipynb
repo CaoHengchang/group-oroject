{
 "cells": [
  {
   "cell_type": "markdown",
   "metadata": {},
   "source": [
    "# Tutorial 2\n",
    "In this tutorial, you will first perform a couple more exercises on control flow statements, to help you become familiar with for loops, if statements and indentation.\n",
    "\n",
    "We will then do a couple of exercises on lists, to give you practice with the syntax.\n",
    "\n",
    "\n",
    "## Control flow exercises"
   ]
  },
  {
   "cell_type": "markdown",
   "metadata": {},
   "source": [
    "## Exercise 1 (flow control, interactivity): \n",
    "\n",
    "Design a basic caller menu for a basic takeout place that serves only bowls of spaghetti, vegetable pizza and ham pizza. \n",
    "**Your customers don’t know that though**. Keep them on the line until they have chosen one of your available options or give up! \n",
    "\n",
    "**Tips**: `food=input()` reads what you write at the command line. \n",
    "You can use string comparisons like \n",
    "`if food == ‘pizza’`.\n",
    "Again, a while loop and booleans are useful here as well."
   ]
  },
  {
   "cell_type": "code",
   "execution_count": null,
   "metadata": {},
   "outputs": [],
   "source": [
    "# example of using command line input:\n",
    "print(\"How is the weather?\")\n",
    "weather = input()\n",
    "print(\"The weather is \" + weather)"
   ]
  },
  {
   "cell_type": "code",
   "execution_count": null,
   "metadata": {},
   "outputs": [],
   "source": [
    "# YOUR CODE HERE\n",
    "# Please test that it works by playing the customer\n"
   ]
  },
  {
   "cell_type": "markdown",
   "metadata": {},
   "source": [
    "## Exercise 2 (flow control, lists)\n",
    "\n",
    "We will do some basic statistics on a child mortality data set from the UK between 1970 and 2018 (source: Unicef). \n",
    "Of course, later in the course we will use `numpy` and its pre-developed measures, and also plot the results, but today we will do it by hand using lists, loops and if statements.\n",
    "\n",
    "The different parts of this question build on each other, so please do them in order."
   ]
  },
  {
   "cell_type": "code",
   "execution_count": null,
   "metadata": {},
   "outputs": [],
   "source": [
    "# dataset of under 5 mortality rate per 1000 births from 1970 to 2018\n",
    "mortality = [21.0349653,20.5835374,20.0406711,19.4067962,18.7022452,17.9633152,17.2117912,16.4468891,\n",
    "             15.6790055,14.9071267,14.131191,13.3781311,12.7039148,12.1483552,11.7132836,11.3732549,\n",
    "             11.0867487,10.7773336,10.3782144,9.8794896,9.307004,8.7092607,8.1651354,7.7341495,7.4161853,\n",
    "            7.1866781,7.0184072,6.8867659,6.7646492,6.6491231,6.5409186,6.4421543,6.3486626,6.2552326,\n",
    "            6.156297,6.0455012,5.9160776,5.7583717,5.5735993,5.3683013,5.1580008,4.9561395,4.7794687,\n",
    "            4.6381964,4.5317608,4.4537018,4.3930084,4.3327255,4.2579142]"
   ]
  },
  {
   "cell_type": "markdown",
   "metadata": {},
   "source": [
    "1. Create a list with the years corresponding to the mortality data, and check that it is the right length."
   ]
  },
  {
   "cell_type": "code",
   "execution_count": null,
   "metadata": {},
   "outputs": [],
   "source": [
    "# Your code here\n"
   ]
  },
  {
   "cell_type": "markdown",
   "metadata": {},
   "source": [
    "2. In which year did the mortality rate first drop below 10? "
   ]
  },
  {
   "cell_type": "code",
   "execution_count": null,
   "metadata": {},
   "outputs": [],
   "source": [
    "# Your code here\n"
   ]
  },
  {
   "cell_type": "markdown",
   "metadata": {},
   "source": [
    "3. Create a list with the discrete differential of the mortality data, i.e. the year-on-year changes. How long is this list?"
   ]
  },
  {
   "cell_type": "code",
   "execution_count": null,
   "metadata": {},
   "outputs": [],
   "source": [
    "# Your code here\n"
   ]
  },
  {
   "cell_type": "markdown",
   "metadata": {},
   "source": [
    "4. As you can see, these are all negative. But is there something systematic hidden in here? Compute the scaled changes, i.e. \n",
    "\\begin{equation}\\Delta(t-1/2) =\\frac{ 2(m(t) - m(t-1))}{m(t)+m(t-1)},\\end{equation}\n",
    "where $m(t)$ is the mortality at time $t$, $t$ is measured in years, and the $1/2$ is just notation, though it will come back when we do integration of ODEs."
   ]
  },
  {
   "cell_type": "code",
   "execution_count": null,
   "metadata": {},
   "outputs": [],
   "source": [
    "# Your code here\n"
   ]
  },
  {
   "cell_type": "markdown",
   "metadata": {},
   "source": [
    "5. The scaled decreases are pretty similar to each other. Compute the mean scaled decrease, and its standard deviation. To be precise, if there are $N$ mortality data points, the average is given by \n",
    "\n",
    "\\begin{equation}\n",
    "\\langle \\Delta \\rangle = \\frac{1}{N-1}\\sum_{k=1}^{N-1} \\Delta(t-1/2), \\end{equation}\n",
    "and the standard deviation is given by the square root of the variance\n",
    "\\begin{equation}\n",
    "\\text{STD} = \\sqrt{\\langle (\\Delta -\\langle \\Delta \\rangle)^2 \\rangle}, \\end{equation}\n",
    "where we can compute the variance using the same kind of averaging procedure as above. "
   ]
  },
  {
   "cell_type": "code",
   "execution_count": null,
   "metadata": {},
   "outputs": [],
   "source": [
    "# Your code here\n"
   ]
  },
  {
   "cell_type": "code",
   "execution_count": null,
   "metadata": {},
   "outputs": [],
   "source": [
    "# For you to cross-check your answers\n",
    "assert abs(average +0.03327433911085034)<1e-15\n",
    "assert abs(STD - 0.014634225668058254)<1e-15"
   ]
  },
  {
   "cell_type": "markdown",
   "metadata": {},
   "source": [
    "## Exercise 3: Simple list manipulation\n",
    "\n",
    "1. Create a list which is made out of the letters of your first and last name (the space ‘ ‘ is a letter, too).\n",
    "\n",
    "2. Access your initials in the list, and use string concatenation (addition) to print them to the screen.\n",
    "\n",
    "3. Print the inverse of your name\n",
    "\n",
    "4. Print only the inverse of your first name\n",
    "\n",
    "5. Find the first occurrence of the letter ‘e’ (or ‘a’ ‘o’ ‘u’,'y','w' ...) in your name, and replace it by ‘i’. \n"
   ]
  },
  {
   "cell_type": "code",
   "execution_count": null,
   "metadata": {},
   "outputs": [],
   "source": [
    "# Your code here\n"
   ]
  },
  {
   "cell_type": "markdown",
   "metadata": {},
   "source": [
    "## Exercise 4: List comprehensions\n",
    "Using list comprehensions, construct the following lists:\n",
    "1. All the multiples of 5 up to 100\n",
    "\n",
    "2. The values of $x^2$ for x between 0 and 1 in steps of 0.01. Tip: `range()` only takes integers as arguments ...\n",
    "\n",
    "3. Using the function random( ), a list of random numbers between 0 and 1 of length 100 (see below)\n",
    "\n",
    "4. The values of the list in 3. that are below 0.5. How many are there?"
   ]
  },
  {
   "cell_type": "code",
   "execution_count": null,
   "metadata": {},
   "outputs": [],
   "source": [
    "# here we load the library to create random variables\n",
    "# random() generates uniformly distributed random numbers between 0 and 1\n",
    "# more on random numbers later\n",
    "from random import *\n",
    "print(random())"
   ]
  },
  {
   "cell_type": "code",
   "execution_count": null,
   "metadata": {},
   "outputs": [],
   "source": [
    "# 1. Your code here\n"
   ]
  },
  {
   "cell_type": "code",
   "execution_count": null,
   "metadata": {},
   "outputs": [],
   "source": [
    "# 2. Your code here\n"
   ]
  },
  {
   "cell_type": "code",
   "execution_count": null,
   "metadata": {},
   "outputs": [],
   "source": [
    "# 3. Your code here\n"
   ]
  },
  {
   "cell_type": "code",
   "execution_count": null,
   "metadata": {},
   "outputs": [],
   "source": [
    "# 4. Your code here\n"
   ]
  },
  {
   "cell_type": "markdown",
   "metadata": {},
   "source": [
    "## If you reach this point:\n",
    "- And the tutorial is over: great!\n",
    "- And the tutorial is not over: Please start your homework\n",
    "- And you are also done with that: Please help your colleagues!"
   ]
  }
 ],
 "metadata": {
  "kernelspec": {
   "display_name": "Python 3",
   "language": "python",
   "name": "python3"
  },
  "language_info": {
   "codemirror_mode": {
    "name": "ipython",
    "version": 3
   },
   "file_extension": ".py",
   "mimetype": "text/x-python",
   "name": "python",
   "nbconvert_exporter": "python",
   "pygments_lexer": "ipython3",
   "version": "3.7.4"
  }
 },
 "nbformat": 4,
 "nbformat_minor": 2
}
